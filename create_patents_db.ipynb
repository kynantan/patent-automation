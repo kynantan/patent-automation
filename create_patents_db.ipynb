{
 "cells": [
  {
   "cell_type": "markdown",
   "metadata": {},
   "source": [
    "# Create Patents Database\n",
    "\n",
    "Create an SQLite database and load in patents data from USPTO / PatentsView tsv files"
   ]
  },
  {
   "cell_type": "code",
   "execution_count": 2,
   "metadata": {},
   "outputs": [],
   "source": [
    "import sqlite3\n",
    "import os"
   ]
  },
  {
   "cell_type": "markdown",
   "metadata": {},
   "source": [
    ".mode tabs\n",
    ".import tsv/patent.tsv patent\n",
    ".import tsv/patent_inventor.tsv patent_inventor\n",
    ".import tsv/patent_assignee.tsv patent_assignee\n",
    ".import tsv/location.tsv location\n",
    ".import tsv/inventor.tsv inventor\n",
    ".import tsv/foreigncitation.tsv foreigncitation\n",
    ".import tsv/assignee.tsv assignee"
   ]
  },
  {
   "cell_type": "markdown",
   "metadata": {},
   "source": [
    "sqlite3 patent_data.sqlite3 -cmd \".mode tabs\" \".import tsv/patent.tsv patent\" \".import tsv/patent_inventor.tsv patent_inventor\" \".import tsv/patent_assignee.tsv patent_assignee\" \".import tsv/location.tsv location\" .import tsv/inventor.tsv inventor\" \".import tsv/foreigncitation.tsv foreigncitation\" \".import tsv/assignee.tsv assignee\""
   ]
  },
  {
   "cell_type": "markdown",
   "metadata": {},
   "source": [
    "CREATE INDEX \"fc_patent_id_index\" ON \"foreigncitation\" (\"patent_id\");\n",
    "\n",
    "CREATE INDEX \"inventor_id\" ON \"inventor\" (\"id\");\n",
    "\n",
    "CREATE INDEX \"location_id\" ON \"location\" (\"id\");\n",
    "\n",
    "CREATE INDEX \"patent_inventor_id\" ON \"patent_inventor\" (\"patent_id\");\n",
    "\n",
    "CREATE INDEX \"patent_id_index\" ON \"patent\" (\"id\");\n",
    "\n",
    "\"CREATE TABLE patent(id varchar(20) PRIMARY KEY, )\""
   ]
  },
  {
   "cell_type": "code",
   "execution_count": 3,
   "metadata": {},
   "outputs": [],
   "source": [
    "db_path = os.path.expanduser(\"~/goa/patents_db.sqlite3\")"
   ]
  },
  {
   "cell_type": "code",
   "execution_count": null,
   "metadata": {},
   "outputs": [],
   "source": [
    "# try:\n",
    "# creates or opens a file database\n",
    "db = sqlite3.connect(db_path)\n",
    "\n",
    "# get cursor object and create metadata table\n",
    "c = db.cursor()\n",
    "\n",
    "# create tables\n",
    "#     c.execute('''\n",
    "#         CREATE TABLE \n",
    "c.execute('''mode tabs''')"
   ]
  },
  {
   "cell_type": "markdown",
   "metadata": {},
   "source": [
    "- create db\n",
    "- create tables\n",
    "- import tsv files (with correct types)\n",
    "- create indexes"
   ]
  },
  {
   "cell_type": "code",
   "execution_count": null,
   "metadata": {},
   "outputs": [],
   "source": [
    "# virtual table\n",
    "# DROP TABLE patent_text;\n",
    "# CREATE VIRTUAL TABLE patent_text USING fts5(id, title, abstract);\n",
    "# INSERT INTO patent_text SELECT id, title, abstract FROM patent;"
   ]
  }
 ],
 "metadata": {
  "kernelspec": {
   "display_name": "Python 3 (ipykernel)",
   "language": "python",
   "name": "python3"
  },
  "language_info": {
   "codemirror_mode": {
    "name": "ipython",
    "version": 3
   },
   "file_extension": ".py",
   "mimetype": "text/x-python",
   "name": "python",
   "nbconvert_exporter": "python",
   "pygments_lexer": "ipython3",
   "version": "3.8.10"
  }
 },
 "nbformat": 4,
 "nbformat_minor": 2
}
