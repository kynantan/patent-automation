{
 "cells": [
  {
   "cell_type": "code",
   "execution_count": 559,
   "id": "cdca9a4e",
   "metadata": {},
   "outputs": [],
   "source": [
    "import json\n",
    "import pandas as pd\n",
    "import numpy as np\n",
    "import matplotlib.pyplot as plt\n",
    "import matplotlib.cm as cm\n",
    "import seaborn as sns\n",
    "import numpy as np\n",
    "import sqlite3\n",
    "import pickle\n",
    "import copy\n",
    "import json\n",
    "import math\n",
    "import pandas as pd\n",
    "import os"
   ]
  },
  {
   "cell_type": "markdown",
   "id": "8b58bc8f",
   "metadata": {},
   "source": [
    "Switch here between KEYWORD and AsSIGNEE search"
   ]
  },
  {
   "cell_type": "code",
   "execution_count": 560,
   "id": "2698a033",
   "metadata": {},
   "outputs": [],
   "source": [
    "search_term = \"keyword\"\n",
    "json_input = \"json_data/keyword_search_data_20211217_no_guided.json\"\n",
    "\n",
    "# search_term = \"assignee\"\n",
    "# json_input = \"json_data/assignee_search_data_20211203.json\""
   ]
  },
  {
   "cell_type": "code",
   "execution_count": 561,
   "id": "2b25d005",
   "metadata": {},
   "outputs": [],
   "source": [
    "filtered_data = []\n",
    "counter = 0\n",
    "\n",
    "for line in open(json_input, 'r'):\n",
    "#     print(counter)\n",
    "    tmp_data = json.loads(line)\n",
    "    assignee_check = tmp_data['assignee_harmonized']\n",
    "#     print(assignee_check)\n",
    "    if len(assignee_check) > 0:\n",
    "        assignee = tmp_data['assignee_harmonized'][0]['name']\n",
    "    else: \n",
    "        assignee = '' \n",
    "    date = tmp_data['publication_date'][:4]\n",
    "    country = tmp_data['country_code']\n",
    "    pub = tmp_data['publication_number']\n",
    "    counter += 1\n",
    "    \n",
    "    filtered_data.append([pub, date, country, assignee])"
   ]
  },
  {
   "cell_type": "code",
   "execution_count": 562,
   "id": "eac6e690",
   "metadata": {},
   "outputs": [
    {
     "data": {
      "text/plain": [
       "32269"
      ]
     },
     "execution_count": 562,
     "metadata": {},
     "output_type": "execute_result"
    }
   ],
   "source": [
    "len(filtered_data)"
   ]
  },
  {
   "cell_type": "code",
   "execution_count": 563,
   "id": "485c5674",
   "metadata": {},
   "outputs": [],
   "source": [
    "# put the data into a dataframe\n",
    "df = pd.DataFrame(filtered_data)\n",
    "df.columns = [\"pub\", \"year\", \"country\", \"assignee\"]"
   ]
  },
  {
   "cell_type": "code",
   "execution_count": 564,
   "id": "2c243e43",
   "metadata": {},
   "outputs": [
    {
     "data": {
      "text/plain": [
       "(32269, 4)"
      ]
     },
     "execution_count": 564,
     "metadata": {},
     "output_type": "execute_result"
    }
   ],
   "source": [
    "df.shape"
   ]
  },
  {
   "cell_type": "code",
   "execution_count": 565,
   "id": "d29cfac3",
   "metadata": {},
   "outputs": [],
   "source": [
    "df = df.drop_duplicates()"
   ]
  },
  {
   "cell_type": "code",
   "execution_count": 566,
   "id": "9c5261af",
   "metadata": {},
   "outputs": [
    {
     "data": {
      "text/plain": [
       "(11093, 4)"
      ]
     },
     "execution_count": 566,
     "metadata": {},
     "output_type": "execute_result"
    }
   ],
   "source": [
    "df.shape"
   ]
  },
  {
   "cell_type": "code",
   "execution_count": 567,
   "id": "026fab59",
   "metadata": {},
   "outputs": [],
   "source": [
    "# reduce to totals and get count \n",
    "df_total = df.groupby(['assignee']).size().reset_index(name='count').sort_values(by='count',ascending=False)"
   ]
  },
  {
   "cell_type": "code",
   "execution_count": 568,
   "id": "3313acdb",
   "metadata": {},
   "outputs": [],
   "source": [
    "# drop any rows with no entry for assignee\n",
    "df_total = df_total[df_total.assignee != \"\"]"
   ]
  },
  {
   "cell_type": "code",
   "execution_count": 569,
   "id": "4efb95d2",
   "metadata": {},
   "outputs": [],
   "source": [
    "# drop any rows with \"Amazon\"\n",
    "# df_total = df_total[df_total.assignee != \"AMAZON TECH INC\"]"
   ]
  },
  {
   "cell_type": "code",
   "execution_count": 570,
   "id": "f59dc66f",
   "metadata": {},
   "outputs": [
    {
     "data": {
      "text/html": [
       "<div>\n",
       "<style scoped>\n",
       "    .dataframe tbody tr th:only-of-type {\n",
       "        vertical-align: middle;\n",
       "    }\n",
       "\n",
       "    .dataframe tbody tr th {\n",
       "        vertical-align: top;\n",
       "    }\n",
       "\n",
       "    .dataframe thead th {\n",
       "        text-align: right;\n",
       "    }\n",
       "</style>\n",
       "<table border=\"1\" class=\"dataframe\">\n",
       "  <thead>\n",
       "    <tr style=\"text-align: right;\">\n",
       "      <th></th>\n",
       "      <th>assignee</th>\n",
       "      <th>count</th>\n",
       "    </tr>\n",
       "  </thead>\n",
       "  <tbody>\n",
       "    <tr>\n",
       "      <th>199</th>\n",
       "      <td>AUTOSTORE TECH AS</td>\n",
       "      <td>233</td>\n",
       "    </tr>\n",
       "    <tr>\n",
       "      <th>2166</th>\n",
       "      <td>MURATA MACHINERY LTD</td>\n",
       "      <td>212</td>\n",
       "    </tr>\n",
       "    <tr>\n",
       "      <th>3277</th>\n",
       "      <td>SYMBOTIC LLC</td>\n",
       "      <td>194</td>\n",
       "    </tr>\n",
       "    <tr>\n",
       "      <th>1483</th>\n",
       "      <td>IBM</td>\n",
       "      <td>170</td>\n",
       "    </tr>\n",
       "    <tr>\n",
       "      <th>2344</th>\n",
       "      <td>OCADO INNOVATION LTD</td>\n",
       "      <td>116</td>\n",
       "    </tr>\n",
       "  </tbody>\n",
       "</table>\n",
       "</div>"
      ],
      "text/plain": [
       "                  assignee  count\n",
       "199      AUTOSTORE TECH AS    233\n",
       "2166  MURATA MACHINERY LTD    212\n",
       "3277          SYMBOTIC LLC    194\n",
       "1483                   IBM    170\n",
       "2344  OCADO INNOVATION LTD    116"
      ]
     },
     "execution_count": 570,
     "metadata": {},
     "output_type": "execute_result"
    }
   ],
   "source": [
    "df_total.head()"
   ]
  },
  {
   "cell_type": "code",
   "execution_count": 571,
   "id": "c075b0ef",
   "metadata": {},
   "outputs": [
    {
     "data": {
      "text/plain": [
       "(4167, 2)"
      ]
     },
     "execution_count": 571,
     "metadata": {},
     "output_type": "execute_result"
    }
   ],
   "source": [
    "df_total.shape"
   ]
  },
  {
   "cell_type": "code",
   "execution_count": 572,
   "id": "398a4514",
   "metadata": {},
   "outputs": [],
   "source": [
    "# also make a set of data with totals by year\n",
    "dfa = df.groupby([\"year\", \"assignee\"]).size().reset_index(name=\"count\").sort_values(by=['year'],ascending=[True])"
   ]
  },
  {
   "cell_type": "code",
   "execution_count": 573,
   "id": "a5443b6c",
   "metadata": {},
   "outputs": [],
   "source": [
    "# convert to datetime data type\n",
    "dfa[\"year\"] = pd.to_datetime(dfa[\"year\"], format='%Y')"
   ]
  },
  {
   "cell_type": "code",
   "execution_count": 574,
   "id": "9259992d",
   "metadata": {},
   "outputs": [
    {
     "data": {
      "text/plain": [
       "year        datetime64[ns]\n",
       "assignee            object\n",
       "count                int64\n",
       "dtype: object"
      ]
     },
     "execution_count": 574,
     "metadata": {},
     "output_type": "execute_result"
    }
   ],
   "source": [
    "dfa.dtypes"
   ]
  },
  {
   "cell_type": "code",
   "execution_count": 575,
   "id": "66869d8f",
   "metadata": {},
   "outputs": [
    {
     "data": {
      "text/plain": [
       "(6190, 3)"
      ]
     },
     "execution_count": 575,
     "metadata": {},
     "output_type": "execute_result"
    }
   ],
   "source": [
    "dfa.shape"
   ]
  },
  {
   "cell_type": "code",
   "execution_count": 576,
   "id": "80942dac",
   "metadata": {
    "scrolled": true
   },
   "outputs": [
    {
     "data": {
      "text/html": [
       "<div>\n",
       "<style scoped>\n",
       "    .dataframe tbody tr th:only-of-type {\n",
       "        vertical-align: middle;\n",
       "    }\n",
       "\n",
       "    .dataframe tbody tr th {\n",
       "        vertical-align: top;\n",
       "    }\n",
       "\n",
       "    .dataframe thead th {\n",
       "        text-align: right;\n",
       "    }\n",
       "</style>\n",
       "<table border=\"1\" class=\"dataframe\">\n",
       "  <thead>\n",
       "    <tr style=\"text-align: right;\">\n",
       "      <th></th>\n",
       "      <th>year</th>\n",
       "      <th>assignee</th>\n",
       "      <th>count</th>\n",
       "    </tr>\n",
       "  </thead>\n",
       "  <tbody>\n",
       "    <tr>\n",
       "      <th>0</th>\n",
       "      <td>1938-01-01</td>\n",
       "      <td>SACO LOWELL SHOPS</td>\n",
       "      <td>1</td>\n",
       "    </tr>\n",
       "    <tr>\n",
       "      <th>1</th>\n",
       "      <td>1954-01-01</td>\n",
       "      <td>ELECTRO PNEUMATIC LOOMS LTD</td>\n",
       "      <td>1</td>\n",
       "    </tr>\n",
       "    <tr>\n",
       "      <th>2</th>\n",
       "      <td>1968-01-01</td>\n",
       "      <td>HARTMAN METAL FABRICATORS INC</td>\n",
       "      <td>1</td>\n",
       "    </tr>\n",
       "    <tr>\n",
       "      <th>3</th>\n",
       "      <td>1969-01-01</td>\n",
       "      <td>CERAMICA F MARAZZI S P A</td>\n",
       "      <td>1</td>\n",
       "    </tr>\n",
       "    <tr>\n",
       "      <th>4</th>\n",
       "      <td>1971-01-01</td>\n",
       "      <td>GULF &amp; WESTERN IND PROD CO</td>\n",
       "      <td>1</td>\n",
       "    </tr>\n",
       "  </tbody>\n",
       "</table>\n",
       "</div>"
      ],
      "text/plain": [
       "        year                       assignee  count\n",
       "0 1938-01-01              SACO LOWELL SHOPS      1\n",
       "1 1954-01-01    ELECTRO PNEUMATIC LOOMS LTD      1\n",
       "2 1968-01-01  HARTMAN METAL FABRICATORS INC      1\n",
       "3 1969-01-01       CERAMICA F MARAZZI S P A      1\n",
       "4 1971-01-01     GULF & WESTERN IND PROD CO      1"
      ]
     },
     "execution_count": 576,
     "metadata": {},
     "output_type": "execute_result"
    }
   ],
   "source": [
    "dfa.head()"
   ]
  },
  {
   "cell_type": "code",
   "execution_count": 577,
   "id": "9870269b",
   "metadata": {},
   "outputs": [
    {
     "data": {
      "text/html": [
       "<div>\n",
       "<style scoped>\n",
       "    .dataframe tbody tr th:only-of-type {\n",
       "        vertical-align: middle;\n",
       "    }\n",
       "\n",
       "    .dataframe tbody tr th {\n",
       "        vertical-align: top;\n",
       "    }\n",
       "\n",
       "    .dataframe thead th {\n",
       "        text-align: right;\n",
       "    }\n",
       "</style>\n",
       "<table border=\"1\" class=\"dataframe\">\n",
       "  <thead>\n",
       "    <tr style=\"text-align: right;\">\n",
       "      <th></th>\n",
       "      <th>year</th>\n",
       "      <th>assignee</th>\n",
       "      <th>count</th>\n",
       "    </tr>\n",
       "  </thead>\n",
       "  <tbody>\n",
       "    <tr>\n",
       "      <th>5851</th>\n",
       "      <td>2021-01-01</td>\n",
       "      <td>HEBEI ZEBANG SUPPLY CHAIN MAN CO LTD</td>\n",
       "      <td>1</td>\n",
       "    </tr>\n",
       "    <tr>\n",
       "      <th>5850</th>\n",
       "      <td>2021-01-01</td>\n",
       "      <td>HEBEI WEICHUANG POWER EQUIPMENT CO LTD</td>\n",
       "      <td>1</td>\n",
       "    </tr>\n",
       "    <tr>\n",
       "      <th>5849</th>\n",
       "      <td>2021-01-01</td>\n",
       "      <td>HARBIN INST TECHNOLOGY</td>\n",
       "      <td>1</td>\n",
       "    </tr>\n",
       "    <tr>\n",
       "      <th>5862</th>\n",
       "      <td>2021-01-01</td>\n",
       "      <td>HUATING COAL GROUP CO LTD</td>\n",
       "      <td>2</td>\n",
       "    </tr>\n",
       "    <tr>\n",
       "      <th>6189</th>\n",
       "      <td>2021-01-01</td>\n",
       "      <td>eStack LLC</td>\n",
       "      <td>1</td>\n",
       "    </tr>\n",
       "  </tbody>\n",
       "</table>\n",
       "</div>"
      ],
      "text/plain": [
       "           year                                assignee  count\n",
       "5851 2021-01-01    HEBEI ZEBANG SUPPLY CHAIN MAN CO LTD      1\n",
       "5850 2021-01-01  HEBEI WEICHUANG POWER EQUIPMENT CO LTD      1\n",
       "5849 2021-01-01                  HARBIN INST TECHNOLOGY      1\n",
       "5862 2021-01-01               HUATING COAL GROUP CO LTD      2\n",
       "6189 2021-01-01                              eStack LLC      1"
      ]
     },
     "execution_count": 577,
     "metadata": {},
     "output_type": "execute_result"
    }
   ],
   "source": [
    "dfa.tail()"
   ]
  },
  {
   "cell_type": "code",
   "execution_count": 578,
   "id": "036635f3",
   "metadata": {},
   "outputs": [
    {
     "data": {
      "text/plain": [
       "year        6190\n",
       "assignee    6190\n",
       "count       6190\n",
       "dtype: int64"
      ]
     },
     "execution_count": 578,
     "metadata": {},
     "output_type": "execute_result"
    }
   ],
   "source": [
    "dfa.count()"
   ]
  },
  {
   "cell_type": "code",
   "execution_count": 579,
   "id": "2e6133fa",
   "metadata": {},
   "outputs": [],
   "source": [
    "# test plot\n",
    "\n",
    "# fig, ax = plt.subplots()\n",
    "# dfa[dfa['assignee'] == 'AUTOSTORE TECH AS'].plot(x='year', y='count', ax=ax, legend=False)\n",
    "# # ax.set_xlim([-10, 5])\n",
    "# ax.set_title(\"AutoStore\")"
   ]
  },
  {
   "cell_type": "code",
   "execution_count": 580,
   "id": "b0403415",
   "metadata": {},
   "outputs": [],
   "source": [
    "# another test plot\n",
    "\n",
    "# fig, ax = plt.subplots()\n",
    "# dfa[dfa['assignee'] == 'MURATA MACHINERY LTD'].plot(x='year', y='count', ax=ax, legend=False)\n",
    "# ax.set_title(\"Murata\")"
   ]
  },
  {
   "cell_type": "code",
   "execution_count": 581,
   "id": "b97e09e9",
   "metadata": {},
   "outputs": [],
   "source": [
    "# get a list of the assignees in order\n",
    "ordered_assignees = df_total.set_index(\"assignee\").index"
   ]
  },
  {
   "cell_type": "code",
   "execution_count": 582,
   "id": "89731768",
   "metadata": {},
   "outputs": [
    {
     "data": {
      "text/plain": [
       "Index(['AUTOSTORE TECH AS', 'MURATA MACHINERY LTD', 'SYMBOTIC LLC', 'IBM',\n",
       "       'OCADO INNOVATION LTD', 'DEMATIC CORP', 'WALMART APOLLO LLC',\n",
       "       'ALERT INNOVATION INC', 'TGW LOGISTICS GROUP GMBH', 'AMAZON TECH INC',\n",
       "       ...\n",
       "       'JIANGSU SHAGANG GROUP CO LTD', 'JIANGSU SHIYE LOGISTICS CO LTD',\n",
       "       'JIANGSU SHOUDU PASSWORD AGRICULTURAL PRODUCTS CO LTD',\n",
       "       'JIANGSU TIANYING ENVIRONMENTAL PROT ENERGY COMPLETE EQUIPMENT CO LTD',\n",
       "       'JIANGSU TOBACCO CORP YANGZHOU',\n",
       "       'JIANGSU TONGHUI MACHINERY & ELECTRICAL EQUIPMENT CO LTD',\n",
       "       'JIANGSU VOCATIONAL COLLEGE OF ELECTRONICS & INFORMATION',\n",
       "       'JIANGSU WATER CONSERVANCY AND FLOOD CONTROL MAT RESERVE CENTER',\n",
       "       'JIANGSU WEIZHUAN AUTOMATION MACHINERY EQUIPMENT CO LTD', 'eStack LLC'],\n",
       "      dtype='object', name='assignee', length=4167)"
      ]
     },
     "execution_count": 582,
     "metadata": {},
     "output_type": "execute_result"
    }
   ],
   "source": [
    "ordered_assignees"
   ]
  },
  {
   "cell_type": "code",
   "execution_count": 584,
   "id": "536fbc9c",
   "metadata": {},
   "outputs": [
    {
     "name": "stdout",
     "output_type": "stream",
     "text": [
      "           year           assignee  count\n",
      "3709 2017-01-01  AUTOSTORE TECH AS      2\n",
      "4072 2018-01-01  AUTOSTORE TECH AS     16\n",
      "4481 2019-01-01  AUTOSTORE TECH AS     56\n",
      "5018 2020-01-01  AUTOSTORE TECH AS     61\n",
      "5718 2021-01-01  AUTOSTORE TECH AS     98\n",
      "           year              assignee  count\n",
      "261  1992-01-01  MURATA MACHINERY LTD      3\n",
      "309  1993-01-01  MURATA MACHINERY LTD      7\n",
      "345  1994-01-01  MURATA MACHINERY LTD     13\n",
      "424  1996-01-01  MURATA MACHINERY LTD      2\n",
      "471  1997-01-01  MURATA MACHINERY LTD      4\n",
      "519  1998-01-01  MURATA MACHINERY LTD      9\n",
      "590  1999-01-01  MURATA MACHINERY LTD      6\n",
      "656  2000-01-01  MURATA MACHINERY LTD     21\n",
      "746  2001-01-01  MURATA MACHINERY LTD     29\n",
      "860  2002-01-01  MURATA MACHINERY LTD     22\n",
      "971  2003-01-01  MURATA MACHINERY LTD     13\n",
      "1064 2004-01-01  MURATA MACHINERY LTD      3\n",
      "1157 2005-01-01  MURATA MACHINERY LTD      4\n",
      "1278 2006-01-01  MURATA MACHINERY LTD      2\n",
      "1410 2007-01-01  MURATA MACHINERY LTD      3\n",
      "1563 2008-01-01  MURATA MACHINERY LTD      5\n",
      "1737 2009-01-01  MURATA MACHINERY LTD      4\n",
      "1911 2010-01-01  MURATA MACHINERY LTD      7\n",
      "2106 2011-01-01  MURATA MACHINERY LTD      5\n",
      "2348 2012-01-01  MURATA MACHINERY LTD      7\n",
      "2632 2013-01-01  MURATA MACHINERY LTD      5\n",
      "2940 2014-01-01  MURATA MACHINERY LTD      1\n",
      "3537 2016-01-01  MURATA MACHINERY LTD      6\n",
      "3876 2017-01-01  MURATA MACHINERY LTD      9\n",
      "4263 2018-01-01  MURATA MACHINERY LTD     12\n",
      "4725 2019-01-01  MURATA MACHINERY LTD      4\n",
      "5356 2020-01-01  MURATA MACHINERY LTD      5\n",
      "5937 2021-01-01  MURATA MACHINERY LTD      1\n",
      "           year      assignee  count\n",
      "2709 2013-01-01  SYMBOTIC LLC      6\n",
      "3027 2014-01-01  SYMBOTIC LLC     15\n",
      "3328 2015-01-01  SYMBOTIC LLC     22\n",
      "3625 2016-01-01  SYMBOTIC LLC     31\n",
      "3972 2017-01-01  SYMBOTIC LLC     19\n",
      "4362 2018-01-01  SYMBOTIC LLC     26\n",
      "4863 2019-01-01  SYMBOTIC LLC     22\n",
      "5519 2020-01-01  SYMBOTIC LLC     32\n",
      "6083 2021-01-01  SYMBOTIC LLC     21\n",
      "           year assignee  count\n",
      "224  1991-01-01      IBM      4\n",
      "252  1992-01-01      IBM      4\n",
      "299  1993-01-01      IBM     11\n",
      "340  1994-01-01      IBM      8\n",
      "373  1995-01-01      IBM     14\n",
      "415  1996-01-01      IBM     10\n",
      "461  1997-01-01      IBM      4\n",
      "508  1998-01-01      IBM      5\n",
      "576  1999-01-01      IBM      5\n",
      "641  2000-01-01      IBM      2\n",
      "711  2001-01-01      IBM      5\n",
      "833  2002-01-01      IBM      5\n",
      "941  2003-01-01      IBM      3\n",
      "1046 2004-01-01      IBM      7\n",
      "1143 2005-01-01      IBM      7\n",
      "1249 2006-01-01      IBM      4\n",
      "1377 2007-01-01      IBM      4\n",
      "1532 2008-01-01      IBM      7\n",
      "1709 2009-01-01      IBM      5\n",
      "1878 2010-01-01      IBM      3\n",
      "2075 2011-01-01      IBM      4\n",
      "2582 2013-01-01      IBM      1\n",
      "2890 2014-01-01      IBM      2\n",
      "3202 2015-01-01      IBM      6\n",
      "3488 2016-01-01      IBM      1\n",
      "3830 2017-01-01      IBM     13\n",
      "4202 2018-01-01      IBM      6\n",
      "4653 2019-01-01      IBM      4\n",
      "5261 2020-01-01      IBM      8\n",
      "5867 2021-01-01      IBM      8\n",
      "           year              assignee  count\n",
      "2958 2014-01-01  OCADO INNOVATION LTD      1\n",
      "3262 2015-01-01  OCADO INNOVATION LTD      4\n",
      "3546 2016-01-01  OCADO INNOVATION LTD      8\n",
      "3886 2017-01-01  OCADO INNOVATION LTD     18\n",
      "4277 2018-01-01  OCADO INNOVATION LTD     24\n",
      "4744 2019-01-01  OCADO INNOVATION LTD     17\n",
      "5375 2020-01-01  OCADO INNOVATION LTD     17\n",
      "5956 2021-01-01  OCADO INNOVATION LTD     27\n",
      "           year      assignee  count\n",
      "1500 2008-01-01  DEMATIC CORP      1\n",
      "2836 2014-01-01  DEMATIC CORP      1\n",
      "3146 2015-01-01  DEMATIC CORP      7\n",
      "3446 2016-01-01  DEMATIC CORP     20\n",
      "3760 2017-01-01  DEMATIC CORP     16\n",
      "4129 2018-01-01  DEMATIC CORP     11\n",
      "4561 2019-01-01  DEMATIC CORP     21\n",
      "5122 2020-01-01  DEMATIC CORP     17\n",
      "5785 2021-01-01  DEMATIC CORP     16\n",
      "           year            assignee  count\n",
      "4007 2017-01-01  WALMART APOLLO LLC      6\n",
      "4407 2018-01-01  WALMART APOLLO LLC     21\n",
      "4913 2019-01-01  WALMART APOLLO LLC     48\n",
      "5594 2020-01-01  WALMART APOLLO LLC     22\n",
      "6145 2021-01-01  WALMART APOLLO LLC     12\n",
      "           year              assignee  count\n",
      "3698 2017-01-01  ALERT INNOVATION INC      3\n",
      "4057 2018-01-01  ALERT INNOVATION INC     17\n",
      "4465 2019-01-01  ALERT INNOVATION INC     29\n",
      "4991 2020-01-01  ALERT INNOVATION INC     22\n",
      "5701 2021-01-01  ALERT INNOVATION INC     21\n",
      "           year                  assignee  count\n",
      "2420 2012-01-01  TGW LOGISTICS GROUP GMBH      4\n",
      "2718 2013-01-01  TGW LOGISTICS GROUP GMBH      3\n",
      "3031 2014-01-01  TGW LOGISTICS GROUP GMBH      3\n",
      "3335 2015-01-01  TGW LOGISTICS GROUP GMBH      2\n",
      "3634 2016-01-01  TGW LOGISTICS GROUP GMBH      3\n",
      "3978 2017-01-01  TGW LOGISTICS GROUP GMBH      2\n",
      "4370 2018-01-01  TGW LOGISTICS GROUP GMBH      1\n",
      "4873 2019-01-01  TGW LOGISTICS GROUP GMBH     18\n",
      "5532 2020-01-01  TGW LOGISTICS GROUP GMBH     18\n",
      "6092 2021-01-01  TGW LOGISTICS GROUP GMBH     20\n",
      "           year         assignee  count\n",
      "1476 2008-01-01  AMAZON TECH INC      3\n",
      "1654 2009-01-01  AMAZON TECH INC      2\n",
      "1831 2010-01-01  AMAZON TECH INC      8\n",
      "2006 2011-01-01  AMAZON TECH INC      5\n",
      "2477 2013-01-01  AMAZON TECH INC      2\n",
      "2785 2014-01-01  AMAZON TECH INC      8\n",
      "3095 2015-01-01  AMAZON TECH INC     13\n",
      "3401 2016-01-01  AMAZON TECH INC     12\n",
      "3701 2017-01-01  AMAZON TECH INC      4\n",
      "4060 2018-01-01  AMAZON TECH INC      5\n",
      "4466 2019-01-01  AMAZON TECH INC      3\n",
      "4994 2020-01-01  AMAZON TECH INC      2\n",
      "5703 2021-01-01  AMAZON TECH INC      1\n",
      "           year  assignee  count\n",
      "1722 2009-01-01  KNAPP AG      2\n",
      "1893 2010-01-01  KNAPP AG      1\n",
      "2094 2011-01-01  KNAPP AG      3\n",
      "2320 2012-01-01  KNAPP AG      6\n",
      "2600 2013-01-01  KNAPP AG      8\n",
      "2908 2014-01-01  KNAPP AG      9\n",
      "3221 2015-01-01  KNAPP AG      6\n",
      "3513 2016-01-01  KNAPP AG      4\n",
      "3855 2017-01-01  KNAPP AG      4\n",
      "4233 2018-01-01  KNAPP AG      5\n",
      "4688 2019-01-01  KNAPP AG     12\n",
      "5306 2020-01-01  KNAPP AG      2\n",
      "5902 2021-01-01  KNAPP AG      1\n",
      "           year                 assignee  count\n",
      "203  1990-01-01  OKI ELECTRIC IND CO LTD      1\n",
      "233  1991-01-01  OKI ELECTRIC IND CO LTD      4\n",
      "267  1992-01-01  OKI ELECTRIC IND CO LTD      1\n",
      "315  1993-01-01  OKI ELECTRIC IND CO LTD      6\n",
      "347  1994-01-01  OKI ELECTRIC IND CO LTD      1\n",
      "389  1995-01-01  OKI ELECTRIC IND CO LTD      3\n",
      "427  1996-01-01  OKI ELECTRIC IND CO LTD      6\n",
      "477  1997-01-01  OKI ELECTRIC IND CO LTD      6\n",
      "528  1998-01-01  OKI ELECTRIC IND CO LTD     10\n",
      "596  1999-01-01  OKI ELECTRIC IND CO LTD      6\n",
      "658  2000-01-01  OKI ELECTRIC IND CO LTD      2\n",
      "756  2001-01-01  OKI ELECTRIC IND CO LTD      1\n",
      "870  2002-01-01  OKI ELECTRIC IND CO LTD      2\n",
      "977  2003-01-01  OKI ELECTRIC IND CO LTD      2\n",
      "1166 2005-01-01  OKI ELECTRIC IND CO LTD      1\n",
      "1425 2007-01-01  OKI ELECTRIC IND CO LTD      1\n",
      "2115 2011-01-01  OKI ELECTRIC IND CO LTD      1\n",
      "2362 2012-01-01  OKI ELECTRIC IND CO LTD      2\n",
      "3264 2015-01-01  OKI ELECTRIC IND CO LTD      1\n",
      "           year    assignee  count\n",
      "156  1989-01-01  DAIFUKU KK      1\n",
      "186  1990-01-01  DAIFUKU KK      1\n",
      "249  1992-01-01  DAIFUKU KK      7\n",
      "290  1993-01-01  DAIFUKU KK      1\n",
      "403  1996-01-01  DAIFUKU KK      1\n",
      "455  1997-01-01  DAIFUKU KK      1\n",
      "564  1999-01-01  DAIFUKU KK      2\n",
      "692  2001-01-01  DAIFUKU KK      2\n",
      "812  2002-01-01  DAIFUKU KK      8\n",
      "919  2003-01-01  DAIFUKU KK      2\n",
      "1028 2004-01-01  DAIFUKU KK      4\n",
      "1120 2005-01-01  DAIFUKU KK      1\n",
      "1357 2007-01-01  DAIFUKU KK      2\n",
      "1850 2010-01-01  DAIFUKU KK      1\n",
      "2039 2011-01-01  DAIFUKU KK      1\n",
      "2244 2012-01-01  DAIFUKU KK      4\n",
      "2520 2013-01-01  DAIFUKU KK      2\n",
      "4554 2019-01-01  DAIFUKU KK      5\n",
      "5117 2020-01-01  DAIFUKU KK      4\n",
      "5777 2021-01-01  DAIFUKU KK      6\n",
      "           year                   assignee  count\n",
      "583  1999-01-01  KNAPP LOGISTIK AUTOMATION      5\n",
      "728  2001-01-01  KNAPP LOGISTIK AUTOMATION      3\n",
      "844  2002-01-01  KNAPP LOGISTIK AUTOMATION      2\n",
      "952  2003-01-01  KNAPP LOGISTIK AUTOMATION      9\n",
      "1053 2004-01-01  KNAPP LOGISTIK AUTOMATION      6\n",
      "1152 2005-01-01  KNAPP LOGISTIK AUTOMATION      8\n",
      "1266 2006-01-01  KNAPP LOGISTIK AUTOMATION      3\n",
      "1392 2007-01-01  KNAPP LOGISTIK AUTOMATION      7\n",
      "1546 2008-01-01  KNAPP LOGISTIK AUTOMATION      5\n",
      "1723 2009-01-01  KNAPP LOGISTIK AUTOMATION      4\n",
      "1894 2010-01-01  KNAPP LOGISTIK AUTOMATION      2\n",
      "2909 2014-01-01  KNAPP LOGISTIK AUTOMATION      1\n",
      "           year     assignee  count\n",
      "87   1985-01-01  HITACHI LTD      1\n",
      "106  1986-01-01  HITACHI LTD      1\n",
      "120  1987-01-01  HITACHI LTD      1\n",
      "166  1989-01-01  HITACHI LTD      2\n",
      "196  1990-01-01  HITACHI LTD      3\n",
      "223  1991-01-01  HITACHI LTD      1\n",
      "251  1992-01-01  HITACHI LTD      5\n",
      "296  1993-01-01  HITACHI LTD      4\n",
      "339  1994-01-01  HITACHI LTD      7\n",
      "372  1995-01-01  HITACHI LTD      6\n",
      "411  1996-01-01  HITACHI LTD      1\n",
      "458  1997-01-01  HITACHI LTD      1\n",
      "505  1998-01-01  HITACHI LTD      1\n",
      "705  2001-01-01  HITACHI LTD      2\n",
      "828  2002-01-01  HITACHI LTD      2\n",
      "1375 2007-01-01  HITACHI LTD      1\n",
      "2292 2012-01-01  HITACHI LTD      1\n",
      "2575 2013-01-01  HITACHI LTD      1\n",
      "3191 2015-01-01  HITACHI LTD      1\n",
      "3483 2016-01-01  HITACHI LTD      4\n",
      "5235 2020-01-01  HITACHI LTD      5\n",
      "5855 2021-01-01  HITACHI LTD      3\n",
      "           year   assignee  count\n",
      "3550 2016-01-01  OPEX CORP      2\n",
      "3889 2017-01-01  OPEX CORP      1\n",
      "4284 2018-01-01  OPEX CORP     13\n",
      "4748 2019-01-01  OPEX CORP     16\n",
      "5377 2020-01-01  OPEX CORP      7\n",
      "5957 2021-01-01  OPEX CORP     11\n"
     ]
    },
    {
     "data": {
      "image/png": "[encoded data removed]",
      "text/plain": [
       "<Figure size 1152x864 with 16 Axes>"
      ]
     },
     "metadata": {
      "needs_background": "light"
     },
     "output_type": "display_data"
    }
   ],
   "source": [
    "xdim = 4\n",
    "ydim = 4\n",
    "fig, ax = plt.subplots(nrows=ydim, ncols=xdim, sharex=True, sharey=True)\n",
    "fig.subplots_adjust(hspace=0.5, wspace=0.3)\n",
    "fig.set_size_inches(16, 12)\n",
    "\n",
    "fig.suptitle(f'{search_term} search: total patents per year by assignee', size=20)\n",
    "\n",
    "for i in range(ydim):\n",
    "    for j in range(xdim):\n",
    "        idx = (i * xdim) + j\n",
    "#     for target_assignee in ordered_assignees[1:17]:\n",
    "    #     print(target_assignee)\n",
    "    #     selection = dfa.get_group(countryname)\n",
    "        selection = dfa[dfa['assignee'] == ordered_assignees[idx]].sort_values(by=['year'],ascending=[True])\n",
    "#         .sort_values(by=['year'],ascending=[True])\n",
    "#         print(selection)\n",
    "\n",
    "        ax[i,j].set_title(ordered_assignees[idx])\n",
    "#         selection.plot(x='year', y='count', label=ordered_assignees[idx], ax=ax[i,j], legend=False)\n",
    "        ax[i,j].plot(selection[\"year\"], selection[\"count\"])\n",
    "\n",
    "plt.tight_layout()"
   ]
  },
  {
   "cell_type": "code",
   "execution_count": 585,
   "id": "1fd714c9",
   "metadata": {},
   "outputs": [
    {
     "name": "stdout",
     "output_type": "stream",
     "text": [
      "plot_keyword_top_assignees_year_0.jpg\n"
     ]
    }
   ],
   "source": [
    "filename = f'plot_{search_term}_top_assignees_year_'\n",
    "# filename = f'plot_{search_term}_top_assignees_year_no_amazon_'\n",
    "i = 0\n",
    "while os.path.exists(filename+\"%s\" % i):\n",
    "    i += 1\n",
    "filename += str(i)+\".jpg\"\n",
    "print(filename)\n",
    "fig.savefig(filename, dpi=300)"
   ]
  },
  {
   "cell_type": "code",
   "execution_count": null,
   "id": "1a408ff6",
   "metadata": {},
   "outputs": [],
   "source": []
  }
 ],
 "metadata": {
  "kernelspec": {
   "display_name": "Python 3 (ipykernel)",
   "language": "python",
   "name": "python3"
  },
  "language_info": {
   "codemirror_mode": {
    "name": "ipython",
    "version": 3
   },
   "file_extension": ".py",
   "mimetype": "text/x-python",
   "name": "python",
   "nbconvert_exporter": "python",
   "pygments_lexer": "ipython3",
   "version": "3.8.10"
  }
 },
 "nbformat": 4,
 "nbformat_minor": 5
}
